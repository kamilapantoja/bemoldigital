{
  "nbformat": 4,
  "nbformat_minor": 0,
  "metadata": {
    "colab": {
      "name": "modulo1.ipynb",
      "provenance": [],
      "collapsed_sections": [],
      "authorship_tag": "ABX9TyOiVsCJoOPS9I+fqun//qN2",
      "include_colab_link": true
    },
    "kernelspec": {
      "name": "python3",
      "display_name": "Python 3"
    },
    "language_info": {
      "name": "python"
    }
  },
  "cells": [
    {
      "cell_type": "markdown",
      "metadata": {
        "id": "view-in-github",
        "colab_type": "text"
      },
      "source": [
        "<a href=\"https://colab.research.google.com/github/kamilapantoja/bemoldigital/blob/main/modulo1.ipynb\" target=\"_parent\"><img src=\"https://colab.research.google.com/assets/colab-badge.svg\" alt=\"Open In Colab\"/></a>"
      ]
    },
    {
      "cell_type": "markdown",
      "metadata": {
        "id": "NWv7AkB7NHwJ"
      },
      "source": [
        "#Aula1"
      ]
    },
    {
      "cell_type": "markdown",
      "metadata": {
        "id": "dWR9HUSmO8Fe"
      },
      "source": [
        "Introdução"
      ]
    },
    {
      "cell_type": "code",
      "metadata": {
        "id": "2jiN2A0hNvKM"
      },
      "source": [
        "idade = 21"
      ],
      "execution_count": 23,
      "outputs": []
    },
    {
      "cell_type": "code",
      "metadata": {
        "id": "gjhYob-GPCVS"
      },
      "source": [
        "numero = 2"
      ],
      "execution_count": 24,
      "outputs": []
    },
    {
      "cell_type": "markdown",
      "metadata": {
        "id": "LHDvzEBLPvJn"
      },
      "source": [
        "soma"
      ]
    },
    {
      "cell_type": "code",
      "metadata": {
        "id": "3-v632poPw4S"
      },
      "source": [
        "resuldadoSoma = idade + numero"
      ],
      "execution_count": 25,
      "outputs": []
    },
    {
      "cell_type": "code",
      "metadata": {
        "colab": {
          "base_uri": "https://localhost:8080/"
        },
        "id": "ZN2iGNFoQK_C",
        "outputId": "be82de6b-aeb9-48da-e49b-3d35be0b4060"
      },
      "source": [
        "resuldadoSoma"
      ],
      "execution_count": 26,
      "outputs": [
        {
          "output_type": "execute_result",
          "data": {
            "text/plain": [
              "23"
            ]
          },
          "metadata": {
            "tags": []
          },
          "execution_count": 26
        }
      ]
    },
    {
      "cell_type": "markdown",
      "metadata": {
        "id": "qHMxlGCZQagl"
      },
      "source": [
        "Subtração"
      ]
    },
    {
      "cell_type": "code",
      "metadata": {
        "colab": {
          "base_uri": "https://localhost:8080/"
        },
        "id": "mTzdB6XIQelz",
        "outputId": "1746ae51-a684-421f-8c6b-5db7d37b40d7"
      },
      "source": [
        "idade - numero"
      ],
      "execution_count": 27,
      "outputs": [
        {
          "output_type": "execute_result",
          "data": {
            "text/plain": [
              "19"
            ]
          },
          "metadata": {
            "tags": []
          },
          "execution_count": 27
        }
      ]
    },
    {
      "cell_type": "markdown",
      "metadata": {
        "id": "ruAG-bA0Qho5"
      },
      "source": [
        "multiplicação"
      ]
    },
    {
      "cell_type": "code",
      "metadata": {
        "id": "qmk686jPQkb5"
      },
      "source": [
        "dobrodaIdade = idade * 2"
      ],
      "execution_count": 28,
      "outputs": []
    },
    {
      "cell_type": "code",
      "metadata": {
        "colab": {
          "base_uri": "https://localhost:8080/"
        },
        "id": "v2BzVDz4Qz4o",
        "outputId": "19967a1c-2673-4deb-a6f6-72537ccec628"
      },
      "source": [
        "dobrodaIdade"
      ],
      "execution_count": 29,
      "outputs": [
        {
          "output_type": "execute_result",
          "data": {
            "text/plain": [
              "42"
            ]
          },
          "metadata": {
            "tags": []
          },
          "execution_count": 29
        }
      ]
    },
    {
      "cell_type": "code",
      "metadata": {
        "colab": {
          "base_uri": "https://localhost:8080/"
        },
        "id": "R9eGMHRARD0L",
        "outputId": "f21dedad-ac82-44b4-8b05-2905427e6d13"
      },
      "source": [
        "idade*(2+3)"
      ],
      "execution_count": 30,
      "outputs": [
        {
          "output_type": "execute_result",
          "data": {
            "text/plain": [
              "105"
            ]
          },
          "metadata": {
            "tags": []
          },
          "execution_count": 30
        }
      ]
    },
    {
      "cell_type": "markdown",
      "metadata": {
        "id": "YgE3ZUI7RUwu"
      },
      "source": [
        "Divisão"
      ]
    },
    {
      "cell_type": "code",
      "metadata": {
        "colab": {
          "base_uri": "https://localhost:8080/"
        },
        "id": "krY1LVaoRW2k",
        "outputId": "d9eac34b-79f7-427f-e772-6081803244b0"
      },
      "source": [
        "idade / 2"
      ],
      "execution_count": 31,
      "outputs": [
        {
          "output_type": "execute_result",
          "data": {
            "text/plain": [
              "10.5"
            ]
          },
          "metadata": {
            "tags": []
          },
          "execution_count": 31
        }
      ]
    },
    {
      "cell_type": "code",
      "metadata": {
        "id": "tGUPFMs2R5bt"
      },
      "source": [
        "metadedaidade = idade / 2"
      ],
      "execution_count": 32,
      "outputs": []
    },
    {
      "cell_type": "code",
      "metadata": {
        "colab": {
          "base_uri": "https://localhost:8080/"
        },
        "id": "aCznz7tvR-Ln",
        "outputId": "f8f9dfd3-2480-4d27-8859-e89c037884cf"
      },
      "source": [
        "metadedaidade"
      ],
      "execution_count": 33,
      "outputs": [
        {
          "output_type": "execute_result",
          "data": {
            "text/plain": [
              "10.5"
            ]
          },
          "metadata": {
            "tags": []
          },
          "execution_count": 33
        }
      ]
    },
    {
      "cell_type": "markdown",
      "metadata": {
        "id": "H-aWntf8SDyw"
      },
      "source": [
        "potência"
      ]
    },
    {
      "cell_type": "code",
      "metadata": {
        "colab": {
          "base_uri": "https://localhost:8080/"
        },
        "id": "sOun7HzbSGAH",
        "outputId": "3cb5cf62-75ed-494a-ef63-0df17e711170"
      },
      "source": [
        "numero **3"
      ],
      "execution_count": 34,
      "outputs": [
        {
          "output_type": "execute_result",
          "data": {
            "text/plain": [
              "8"
            ]
          },
          "metadata": {
            "tags": []
          },
          "execution_count": 34
        }
      ]
    },
    {
      "cell_type": "markdown",
      "metadata": {
        "id": "qTkIVdxlSKb_"
      },
      "source": [
        "Raiz quadrada"
      ]
    },
    {
      "cell_type": "code",
      "metadata": {
        "colab": {
          "base_uri": "https://localhost:8080/"
        },
        "id": "HygyD3BvSMx9",
        "outputId": "1e49640f-35e8-4f49-bc27-e89911640054"
      },
      "source": [
        "numero **(1/2)"
      ],
      "execution_count": 35,
      "outputs": [
        {
          "output_type": "execute_result",
          "data": {
            "text/plain": [
              "1.4142135623730951"
            ]
          },
          "metadata": {
            "tags": []
          },
          "execution_count": 35
        }
      ]
    },
    {
      "cell_type": "code",
      "metadata": {
        "colab": {
          "base_uri": "https://localhost:8080/"
        },
        "id": "909TmnuuSQcW",
        "outputId": "851c8bfb-f02f-422a-e62d-f32c40b47412"
      },
      "source": [
        "25**(0.5)"
      ],
      "execution_count": 36,
      "outputs": [
        {
          "output_type": "execute_result",
          "data": {
            "text/plain": [
              "5.0"
            ]
          },
          "metadata": {
            "tags": []
          },
          "execution_count": 36
        }
      ]
    },
    {
      "cell_type": "markdown",
      "metadata": {
        "id": "sGnwxcqsTUYW"
      },
      "source": [
        "Lista"
      ]
    },
    {
      "cell_type": "code",
      "metadata": {
        "id": "vooydq4ATX4D"
      },
      "source": [
        "L = [5, 3, 2, 9, 8]"
      ],
      "execution_count": 37,
      "outputs": []
    },
    {
      "cell_type": "code",
      "metadata": {
        "colab": {
          "base_uri": "https://localhost:8080/"
        },
        "id": "dTQHybd8TyFe",
        "outputId": "257df1fa-f102-49f9-cb36-343c68a7419c"
      },
      "source": [
        "L"
      ],
      "execution_count": 38,
      "outputs": [
        {
          "output_type": "execute_result",
          "data": {
            "text/plain": [
              "[5, 3, 2, 9, 8]"
            ]
          },
          "metadata": {
            "tags": []
          },
          "execution_count": 38
        }
      ]
    },
    {
      "cell_type": "code",
      "metadata": {
        "colab": {
          "base_uri": "https://localhost:8080/"
        },
        "id": "IdGua9r_UHmy",
        "outputId": "f6f85ccd-e68e-4d03-a78d-93c81f5c6506"
      },
      "source": [
        "L[1]"
      ],
      "execution_count": 39,
      "outputs": [
        {
          "output_type": "execute_result",
          "data": {
            "text/plain": [
              "3"
            ]
          },
          "metadata": {
            "tags": []
          },
          "execution_count": 39
        }
      ]
    },
    {
      "cell_type": "code",
      "metadata": {
        "colab": {
          "base_uri": "https://localhost:8080/"
        },
        "id": "P3aGzd4iUTK_",
        "outputId": "8269ae5a-392e-4ec6-d9b6-4630d15f2300"
      },
      "source": [
        "L[2]"
      ],
      "execution_count": 40,
      "outputs": [
        {
          "output_type": "execute_result",
          "data": {
            "text/plain": [
              "2"
            ]
          },
          "metadata": {
            "tags": []
          },
          "execution_count": 40
        }
      ]
    },
    {
      "cell_type": "code",
      "metadata": {
        "colab": {
          "base_uri": "https://localhost:8080/"
        },
        "id": "tctktnVaUYD4",
        "outputId": "1e8d0128-7cc3-401a-9e8f-0629919b0e7d"
      },
      "source": [
        "L[3]"
      ],
      "execution_count": 41,
      "outputs": [
        {
          "output_type": "execute_result",
          "data": {
            "text/plain": [
              "9"
            ]
          },
          "metadata": {
            "tags": []
          },
          "execution_count": 41
        }
      ]
    },
    {
      "cell_type": "code",
      "metadata": {
        "colab": {
          "base_uri": "https://localhost:8080/"
        },
        "id": "HsckNGyVUvyM",
        "outputId": "634f07bc-2551-4753-cae9-86aa5144a4e4"
      },
      "source": [
        "L[2]"
      ],
      "execution_count": 42,
      "outputs": [
        {
          "output_type": "execute_result",
          "data": {
            "text/plain": [
              "2"
            ]
          },
          "metadata": {
            "tags": []
          },
          "execution_count": 42
        }
      ]
    },
    {
      "cell_type": "code",
      "metadata": {
        "colab": {
          "base_uri": "https://localhost:8080/"
        },
        "id": "kr4LJANNVLQX",
        "outputId": "43ec161e-c434-4403-a432-45e44064e153"
      },
      "source": [
        "L[-1]"
      ],
      "execution_count": 43,
      "outputs": [
        {
          "output_type": "execute_result",
          "data": {
            "text/plain": [
              "8"
            ]
          },
          "metadata": {
            "tags": []
          },
          "execution_count": 43
        }
      ]
    },
    {
      "cell_type": "markdown",
      "metadata": {
        "id": "SwT8MsHmV3pf"
      },
      "source": [
        "Slicing"
      ]
    },
    {
      "cell_type": "code",
      "metadata": {
        "colab": {
          "base_uri": "https://localhost:8080/"
        },
        "id": "z3qkZ8rRV52b",
        "outputId": "9666795c-2133-4c40-be84-9e31d421f189"
      },
      "source": [
        "L[1:3]"
      ],
      "execution_count": 44,
      "outputs": [
        {
          "output_type": "execute_result",
          "data": {
            "text/plain": [
              "[3, 2]"
            ]
          },
          "metadata": {
            "tags": []
          },
          "execution_count": 44
        }
      ]
    },
    {
      "cell_type": "code",
      "metadata": {
        "colab": {
          "base_uri": "https://localhost:8080/"
        },
        "id": "fO2OudPYW2b8",
        "outputId": "5ce24979-93b7-4abc-83de-e788efdb7151"
      },
      "source": [
        "L[3]+5"
      ],
      "execution_count": 45,
      "outputs": [
        {
          "output_type": "execute_result",
          "data": {
            "text/plain": [
              "14"
            ]
          },
          "metadata": {
            "tags": []
          },
          "execution_count": 45
        }
      ]
    },
    {
      "cell_type": "markdown",
      "metadata": {
        "id": "NuLKqRUqXPit"
      },
      "source": [
        "String"
      ]
    },
    {
      "cell_type": "code",
      "metadata": {
        "id": "1hA0DcK5XRX7"
      },
      "source": [
        "nome = \"Fernanda\""
      ],
      "execution_count": 46,
      "outputs": []
    },
    {
      "cell_type": "code",
      "metadata": {
        "colab": {
          "base_uri": "https://localhost:8080/",
          "height": 35
        },
        "id": "jody03JQXkiu",
        "outputId": "3c1102c0-91c4-44a7-c4d7-947e1f668f1a"
      },
      "source": [
        "nome[0]"
      ],
      "execution_count": 47,
      "outputs": [
        {
          "output_type": "execute_result",
          "data": {
            "application/vnd.google.colaboratory.intrinsic+json": {
              "type": "string"
            },
            "text/plain": [
              "'F'"
            ]
          },
          "metadata": {
            "tags": []
          },
          "execution_count": 47
        }
      ]
    },
    {
      "cell_type": "code",
      "metadata": {
        "colab": {
          "base_uri": "https://localhost:8080/",
          "height": 35
        },
        "id": "QEBfzSZ8Xo2u",
        "outputId": "bc2aa076-0a42-46e8-bdc6-0e2346b7ccf1"
      },
      "source": [
        "nome[0:]"
      ],
      "execution_count": 48,
      "outputs": [
        {
          "output_type": "execute_result",
          "data": {
            "application/vnd.google.colaboratory.intrinsic+json": {
              "type": "string"
            },
            "text/plain": [
              "'Fernanda'"
            ]
          },
          "metadata": {
            "tags": []
          },
          "execution_count": 48
        }
      ]
    },
    {
      "cell_type": "code",
      "metadata": {
        "id": "Wj2Uj0CfX_Ke"
      },
      "source": [
        "apelido = nome[3:]"
      ],
      "execution_count": 49,
      "outputs": []
    },
    {
      "cell_type": "code",
      "metadata": {
        "colab": {
          "base_uri": "https://localhost:8080/",
          "height": 35
        },
        "id": "As6ABE7WYFlf",
        "outputId": "df21fc51-1cc3-448b-de73-716c73b49ca9"
      },
      "source": [
        "apelido.lower()"
      ],
      "execution_count": 50,
      "outputs": [
        {
          "output_type": "execute_result",
          "data": {
            "application/vnd.google.colaboratory.intrinsic+json": {
              "type": "string"
            },
            "text/plain": [
              "'nanda'"
            ]
          },
          "metadata": {
            "tags": []
          },
          "execution_count": 50
        }
      ]
    },
    {
      "cell_type": "code",
      "metadata": {
        "colab": {
          "base_uri": "https://localhost:8080/",
          "height": 35
        },
        "id": "2Ms7TVM_YMdn",
        "outputId": "bc9da0fc-62df-46ad-8be5-b6b583761f2f"
      },
      "source": [
        "apelido.upper()"
      ],
      "execution_count": 51,
      "outputs": [
        {
          "output_type": "execute_result",
          "data": {
            "application/vnd.google.colaboratory.intrinsic+json": {
              "type": "string"
            },
            "text/plain": [
              "'NANDA'"
            ]
          },
          "metadata": {
            "tags": []
          },
          "execution_count": 51
        }
      ]
    },
    {
      "cell_type": "code",
      "metadata": {
        "colab": {
          "base_uri": "https://localhost:8080/",
          "height": 35
        },
        "id": "ME0dcXPQYXF_",
        "outputId": "dc8c47ae-84e2-4b34-b0b5-a70dbc692d52"
      },
      "source": [
        "nome.upper()"
      ],
      "execution_count": 52,
      "outputs": [
        {
          "output_type": "execute_result",
          "data": {
            "application/vnd.google.colaboratory.intrinsic+json": {
              "type": "string"
            },
            "text/plain": [
              "'FERNANDA'"
            ]
          },
          "metadata": {
            "tags": []
          },
          "execution_count": 52
        }
      ]
    },
    {
      "cell_type": "markdown",
      "metadata": {
        "id": "7XK9nPXzZSmv"
      },
      "source": [
        "Dicionários"
      ]
    },
    {
      "cell_type": "code",
      "metadata": {
        "id": "e-P21nfQZUmD"
      },
      "source": [
        "preços = {'biscoito':2.99, 'café':3.69}"
      ],
      "execution_count": 53,
      "outputs": []
    },
    {
      "cell_type": "code",
      "metadata": {
        "colab": {
          "base_uri": "https://localhost:8080/"
        },
        "id": "iF_rd6ccZoyE",
        "outputId": "ddb0c2ea-4992-4970-a3d6-3fbf41429ded"
      },
      "source": [
        "preços"
      ],
      "execution_count": 54,
      "outputs": [
        {
          "output_type": "execute_result",
          "data": {
            "text/plain": [
              "{'biscoito': 2.99, 'café': 3.69}"
            ]
          },
          "metadata": {
            "tags": []
          },
          "execution_count": 54
        }
      ]
    },
    {
      "cell_type": "code",
      "metadata": {
        "colab": {
          "base_uri": "https://localhost:8080/"
        },
        "id": "Woscz8EiZ8tX",
        "outputId": "7fa21e9d-4ac7-4d82-aa83-f8b655d11400"
      },
      "source": [
        "preços['biscoito']"
      ],
      "execution_count": 55,
      "outputs": [
        {
          "output_type": "execute_result",
          "data": {
            "text/plain": [
              "2.99"
            ]
          },
          "metadata": {
            "tags": []
          },
          "execution_count": 55
        }
      ]
    },
    {
      "cell_type": "code",
      "metadata": {
        "colab": {
          "base_uri": "https://localhost:8080/"
        },
        "id": "jVuEB6upaMNp",
        "outputId": "b1b732e5-f8e0-4f44-9a78-315d0fcb3372"
      },
      "source": [
        "preços['café']"
      ],
      "execution_count": 56,
      "outputs": [
        {
          "output_type": "execute_result",
          "data": {
            "text/plain": [
              "3.69"
            ]
          },
          "metadata": {
            "tags": []
          },
          "execution_count": 56
        }
      ]
    },
    {
      "cell_type": "code",
      "metadata": {
        "colab": {
          "base_uri": "https://localhost:8080/"
        },
        "id": "w2F8lCJ1aa1O",
        "outputId": "8a3c245f-0edf-4e7d-a465-c9778245ddb3"
      },
      "source": [
        "preços['biscoito']*5"
      ],
      "execution_count": 57,
      "outputs": [
        {
          "output_type": "execute_result",
          "data": {
            "text/plain": [
              "14.950000000000001"
            ]
          },
          "metadata": {
            "tags": []
          },
          "execution_count": 57
        }
      ]
    },
    {
      "cell_type": "code",
      "metadata": {
        "colab": {
          "base_uri": "https://localhost:8080/"
        },
        "id": "zD7BDfUFaill",
        "outputId": "b1db5a11-4eba-4f3d-853f-ecdfb1d1c8f0"
      },
      "source": [
        "round(preços['biscoito']*5,2)"
      ],
      "execution_count": 58,
      "outputs": [
        {
          "output_type": "execute_result",
          "data": {
            "text/plain": [
              "14.95"
            ]
          },
          "metadata": {
            "tags": []
          },
          "execution_count": 58
        }
      ]
    },
    {
      "cell_type": "code",
      "metadata": {
        "id": "IAuLuSJebL-r"
      },
      "source": [
        "raizdedois = 2 **(1/2)"
      ],
      "execution_count": 59,
      "outputs": []
    },
    {
      "cell_type": "code",
      "metadata": {
        "colab": {
          "base_uri": "https://localhost:8080/"
        },
        "id": "bsq1njQibSQt",
        "outputId": "50f20604-0c9f-4454-bc4a-474aec0c7a11"
      },
      "source": [
        "raizdedois"
      ],
      "execution_count": 60,
      "outputs": [
        {
          "output_type": "execute_result",
          "data": {
            "text/plain": [
              "1.4142135623730951"
            ]
          },
          "metadata": {
            "tags": []
          },
          "execution_count": 60
        }
      ]
    },
    {
      "cell_type": "code",
      "metadata": {
        "colab": {
          "base_uri": "https://localhost:8080/"
        },
        "id": "PlmeHRMIbVDj",
        "outputId": "abc55c29-7d00-49bd-f374-3ff18e65b919"
      },
      "source": [
        "round(raizdedois,3)"
      ],
      "execution_count": 61,
      "outputs": [
        {
          "output_type": "execute_result",
          "data": {
            "text/plain": [
              "1.414"
            ]
          },
          "metadata": {
            "tags": []
          },
          "execution_count": 61
        }
      ]
    },
    {
      "cell_type": "code",
      "metadata": {
        "colab": {
          "base_uri": "https://localhost:8080/"
        },
        "id": "rSW_ELrHbZ1E",
        "outputId": "8b59c0f8-bdd3-4966-d262-963455ba85cf"
      },
      "source": [
        "preços['biscoito'] + preços['café']"
      ],
      "execution_count": 62,
      "outputs": [
        {
          "output_type": "execute_result",
          "data": {
            "text/plain": [
              "6.68"
            ]
          },
          "metadata": {
            "tags": []
          },
          "execution_count": 62
        }
      ]
    },
    {
      "cell_type": "markdown",
      "metadata": {
        "id": "CSmTS7q3b7tM"
      },
      "source": [
        "Operadores Relacionais"
      ]
    },
    {
      "cell_type": "code",
      "metadata": {
        "colab": {
          "base_uri": "https://localhost:8080/"
        },
        "id": "-bZPAWekb_Qv",
        "outputId": "6e50f303-bbae-4a69-83ca-cdee7ddb050a"
      },
      "source": [
        "preços['biscoito'] > preços['café']"
      ],
      "execution_count": 63,
      "outputs": [
        {
          "output_type": "execute_result",
          "data": {
            "text/plain": [
              "False"
            ]
          },
          "metadata": {
            "tags": []
          },
          "execution_count": 63
        }
      ]
    },
    {
      "cell_type": "code",
      "metadata": {
        "colab": {
          "base_uri": "https://localhost:8080/"
        },
        "id": "0RMUf7PqcSt9",
        "outputId": "a269b010-212b-485a-b2b8-bf686af2760a"
      },
      "source": [
        "preços['biscoito'] < preços['café']"
      ],
      "execution_count": 64,
      "outputs": [
        {
          "output_type": "execute_result",
          "data": {
            "text/plain": [
              "True"
            ]
          },
          "metadata": {
            "tags": []
          },
          "execution_count": 64
        }
      ]
    },
    {
      "cell_type": "code",
      "metadata": {
        "colab": {
          "base_uri": "https://localhost:8080/"
        },
        "id": "qwAKFSDUcW8v",
        "outputId": "eccf9d28-ca8e-40aa-bae4-44cbe3116bc0"
      },
      "source": [
        "preços['biscoito'] == 3"
      ],
      "execution_count": 65,
      "outputs": [
        {
          "output_type": "execute_result",
          "data": {
            "text/plain": [
              "False"
            ]
          },
          "metadata": {
            "tags": []
          },
          "execution_count": 65
        }
      ]
    },
    {
      "cell_type": "code",
      "metadata": {
        "colab": {
          "base_uri": "https://localhost:8080/"
        },
        "id": "WYYpe71McgAh",
        "outputId": "0dde4166-7b61-40fd-de81-71a8c4b2e348"
      },
      "source": [
        "preços['café'] == 3.69"
      ],
      "execution_count": 66,
      "outputs": [
        {
          "output_type": "execute_result",
          "data": {
            "text/plain": [
              "True"
            ]
          },
          "metadata": {
            "tags": []
          },
          "execution_count": 66
        }
      ]
    },
    {
      "cell_type": "code",
      "metadata": {
        "colab": {
          "base_uri": "https://localhost:8080/"
        },
        "id": "lvS_1qjHcmVs",
        "outputId": "b0273578-5625-4b27-ea0d-36aa88167bd0"
      },
      "source": [
        "preços['biscoito'] <= 5"
      ],
      "execution_count": 67,
      "outputs": [
        {
          "output_type": "execute_result",
          "data": {
            "text/plain": [
              "True"
            ]
          },
          "metadata": {
            "tags": []
          },
          "execution_count": 67
        }
      ]
    },
    {
      "cell_type": "code",
      "metadata": {
        "colab": {
          "base_uri": "https://localhost:8080/"
        },
        "id": "wx0RS3Cic4IF",
        "outputId": "9fac1286-4885-495f-c74d-86832632712d"
      },
      "source": [
        "preços['biscoito'] != preços['café']"
      ],
      "execution_count": 68,
      "outputs": [
        {
          "output_type": "execute_result",
          "data": {
            "text/plain": [
              "True"
            ]
          },
          "metadata": {
            "tags": []
          },
          "execution_count": 68
        }
      ]
    },
    {
      "cell_type": "code",
      "metadata": {
        "colab": {
          "base_uri": "https://localhost:8080/"
        },
        "id": "b0q_aApHdGGV",
        "outputId": "20d3859a-2305-41fa-d211-786a9d58a1bb"
      },
      "source": [
        "nome == apelido"
      ],
      "execution_count": 69,
      "outputs": [
        {
          "output_type": "execute_result",
          "data": {
            "text/plain": [
              "False"
            ]
          },
          "metadata": {
            "tags": []
          },
          "execution_count": 69
        }
      ]
    },
    {
      "cell_type": "code",
      "metadata": {
        "id": "7VNsFcSEdM4V"
      },
      "source": [
        ""
      ],
      "execution_count": 69,
      "outputs": []
    },
    {
      "cell_type": "markdown",
      "metadata": {
        "id": "uw2WITniDcJf"
      },
      "source": [
        "**Desafio**"
      ]
    },
    {
      "cell_type": "code",
      "metadata": {
        "id": "msnxYkP6EGrF"
      },
      "source": [
        "nome1 = \"Kamila\""
      ],
      "execution_count": 70,
      "outputs": []
    },
    {
      "cell_type": "code",
      "metadata": {
        "id": "JnlILh65EPsX"
      },
      "source": [
        "idade1 = 25"
      ],
      "execution_count": 71,
      "outputs": []
    },
    {
      "cell_type": "code",
      "metadata": {
        "id": "hsr2ZTUbEVRX"
      },
      "source": [
        "telefone1 = 981339103"
      ],
      "execution_count": 72,
      "outputs": []
    },
    {
      "cell_type": "code",
      "metadata": {
        "id": "neadQ1jVEZTB"
      },
      "source": [
        "escolaridade1 = \"Cursando Ensino Superior\""
      ],
      "execution_count": 73,
      "outputs": []
    },
    {
      "cell_type": "markdown",
      "metadata": {
        "id": "iLMnq9zbFDqT"
      },
      "source": [
        "Dicionário Dados Cliente"
      ]
    },
    {
      "cell_type": "code",
      "metadata": {
        "id": "MPFCFHclDfMV"
      },
      "source": [
        "DadosCliente = {nome1, idade1, telefone1, escolaridade1}"
      ],
      "execution_count": 74,
      "outputs": []
    },
    {
      "cell_type": "code",
      "metadata": {
        "colab": {
          "base_uri": "https://localhost:8080/"
        },
        "id": "Ztn6grgyFIYi",
        "outputId": "62a16133-1d7b-4c52-c419-e08e6d698c4e"
      },
      "source": [
        "DadosCliente"
      ],
      "execution_count": 75,
      "outputs": [
        {
          "output_type": "execute_result",
          "data": {
            "text/plain": [
              "{25, 981339103, 'Cursando Ensino Superior', 'Kamila'}"
            ]
          },
          "metadata": {
            "tags": []
          },
          "execution_count": 75
        }
      ]
    },
    {
      "cell_type": "markdown",
      "metadata": {
        "id": "MozytDXJNDnV"
      },
      "source": [
        "Lista"
      ]
    },
    {
      "cell_type": "code",
      "metadata": {
        "id": "AWo6OyfNFpvY"
      },
      "source": [
        "DadosClienteLista = [nome1, idade1, telefone1, escolaridade1]"
      ],
      "execution_count": 76,
      "outputs": []
    },
    {
      "cell_type": "code",
      "metadata": {
        "colab": {
          "base_uri": "https://localhost:8080/"
        },
        "id": "vB14LxatF9Uy",
        "outputId": "3a022c24-abea-4edd-84f2-3a67c63c0b09"
      },
      "source": [
        "DadosClienteLista"
      ],
      "execution_count": 77,
      "outputs": [
        {
          "output_type": "execute_result",
          "data": {
            "text/plain": [
              "['Kamila', 25, 981339103, 'Cursando Ensino Superior']"
            ]
          },
          "metadata": {
            "tags": []
          },
          "execution_count": 77
        }
      ]
    },
    {
      "cell_type": "markdown",
      "metadata": {
        "id": "DZnmEP3OGg6y"
      },
      "source": [
        "Comparação idade maior que 1"
      ]
    },
    {
      "cell_type": "code",
      "metadata": {
        "colab": {
          "base_uri": "https://localhost:8080/"
        },
        "id": "Bfo9wAsiGX5I",
        "outputId": "ff7ac6e1-abfe-4d47-a7f2-c0ab31c8ae07"
      },
      "source": [
        "idade >= 1"
      ],
      "execution_count": 78,
      "outputs": [
        {
          "output_type": "execute_result",
          "data": {
            "text/plain": [
              "True"
            ]
          },
          "metadata": {
            "tags": []
          },
          "execution_count": 78
        }
      ]
    },
    {
      "cell_type": "markdown",
      "metadata": {
        "id": "EHF77WIgSg6q"
      },
      "source": [
        "correção"
      ]
    },
    {
      "cell_type": "code",
      "metadata": {
        "id": "yGqHakk8SCst"
      },
      "source": [
        "dadosclinete = {'primeironome':'Fernanda', 'idade2':21, 'grauescola': 'superior'}"
      ],
      "execution_count": 80,
      "outputs": []
    },
    {
      "cell_type": "code",
      "metadata": {
        "colab": {
          "base_uri": "https://localhost:8080/"
        },
        "id": "vCkSjgtGSRn3",
        "outputId": "e3aa9c90-749e-4560-d03a-d23a028dc25f"
      },
      "source": [
        "dadosclinete['idade2'] >= 18"
      ],
      "execution_count": 81,
      "outputs": [
        {
          "output_type": "execute_result",
          "data": {
            "text/plain": [
              "True"
            ]
          },
          "metadata": {
            "tags": []
          },
          "execution_count": 81
        }
      ]
    },
    {
      "cell_type": "markdown",
      "metadata": {
        "id": "64ZnnRgLTY-8"
      },
      "source": [
        "**AULA2**"
      ]
    },
    {
      "cell_type": "markdown",
      "metadata": {
        "id": "gvxYgAfnTfst"
      },
      "source": [
        "Operadores Lógicos"
      ]
    },
    {
      "cell_type": "code",
      "metadata": {
        "id": "3Fv4ZPBuTjD5"
      },
      "source": [
        "preços = {'biscoito': 2.99,\n",
        "          'café': 4.69,\n",
        "          'cerveja': 2.66}"
      ],
      "execution_count": 82,
      "outputs": []
    },
    {
      "cell_type": "code",
      "metadata": {
        "colab": {
          "base_uri": "https://localhost:8080/"
        },
        "id": "JMYb0KheT3cN",
        "outputId": "7e59fae5-8e06-4ce6-985e-4fb60d28342c"
      },
      "source": [
        "preços"
      ],
      "execution_count": 83,
      "outputs": [
        {
          "output_type": "execute_result",
          "data": {
            "text/plain": [
              "{'biscoito': 2.99, 'café': 4.69, 'cerveja': 2.66}"
            ]
          },
          "metadata": {
            "tags": []
          },
          "execution_count": 83
        }
      ]
    },
    {
      "cell_type": "code",
      "metadata": {
        "colab": {
          "base_uri": "https://localhost:8080/"
        },
        "id": "96yHFgJcT7B1",
        "outputId": "7f348243-eab1-4bdd-ead5-29a2f3585a5c"
      },
      "source": [
        "preços['cerveja'] < 2.50"
      ],
      "execution_count": 84,
      "outputs": [
        {
          "output_type": "execute_result",
          "data": {
            "text/plain": [
              "False"
            ]
          },
          "metadata": {
            "tags": []
          },
          "execution_count": 84
        }
      ]
    },
    {
      "cell_type": "code",
      "metadata": {
        "colab": {
          "base_uri": "https://localhost:8080/"
        },
        "id": "K2wrWw6qUDsE",
        "outputId": "9278b6be-fced-4879-d970-997ba70964ff"
      },
      "source": [
        "not preços['cerveja'] < 2.50"
      ],
      "execution_count": 85,
      "outputs": [
        {
          "output_type": "execute_result",
          "data": {
            "text/plain": [
              "True"
            ]
          },
          "metadata": {
            "tags": []
          },
          "execution_count": 85
        }
      ]
    },
    {
      "cell_type": "markdown",
      "metadata": {
        "id": "ieUfF6pbURnc"
      },
      "source": [
        "AND"
      ]
    },
    {
      "cell_type": "code",
      "metadata": {
        "colab": {
          "base_uri": "https://localhost:8080/"
        },
        "id": "4MYVf_ZJUV9L",
        "outputId": "5e2eaf4c-e900-4133-84d0-84fa9375d17e"
      },
      "source": [
        "preços['cerveja'] <2.50 and idade >=18"
      ],
      "execution_count": 86,
      "outputs": [
        {
          "output_type": "execute_result",
          "data": {
            "text/plain": [
              "False"
            ]
          },
          "metadata": {
            "tags": []
          },
          "execution_count": 86
        }
      ]
    },
    {
      "cell_type": "code",
      "metadata": {
        "colab": {
          "base_uri": "https://localhost:8080/"
        },
        "id": "ER3ZypwvUsTN",
        "outputId": "4aacbdf8-58a2-4b92-8c57-ef1d78bf0284"
      },
      "source": [
        "preços['cerveja'] <3 and idade >=18"
      ],
      "execution_count": 87,
      "outputs": [
        {
          "output_type": "execute_result",
          "data": {
            "text/plain": [
              "True"
            ]
          },
          "metadata": {
            "tags": []
          },
          "execution_count": 87
        }
      ]
    },
    {
      "cell_type": "markdown",
      "metadata": {
        "id": "NP_djMxxVUHT"
      },
      "source": [
        "OR"
      ]
    },
    {
      "cell_type": "code",
      "metadata": {
        "colab": {
          "base_uri": "https://localhost:8080/"
        },
        "id": "dHnYbrrFVVpU",
        "outputId": "5571a4b3-7776-40b3-9d3b-e725422c848b"
      },
      "source": [
        "preços['cerveja']<2.50 or idade >=18"
      ],
      "execution_count": 88,
      "outputs": [
        {
          "output_type": "execute_result",
          "data": {
            "text/plain": [
              "True"
            ]
          },
          "metadata": {
            "tags": []
          },
          "execution_count": 88
        }
      ]
    },
    {
      "cell_type": "code",
      "metadata": {
        "colab": {
          "base_uri": "https://localhost:8080/"
        },
        "id": "TAlDvJT3VxgF",
        "outputId": "637921bb-904b-4c89-b7bb-3931c132f2e5"
      },
      "source": [
        "preços['cerveja']<2.50 or idade < 18"
      ],
      "execution_count": 89,
      "outputs": [
        {
          "output_type": "execute_result",
          "data": {
            "text/plain": [
              "False"
            ]
          },
          "metadata": {
            "tags": []
          },
          "execution_count": 89
        }
      ]
    },
    {
      "cell_type": "markdown",
      "metadata": {
        "id": "_RIxNAWzXWli"
      },
      "source": [
        "## Desvio Condicional"
      ]
    },
    {
      "cell_type": "code",
      "metadata": {
        "id": "uJFqk2BMYLrC"
      },
      "source": [
        "idade2 = 16"
      ],
      "execution_count": 91,
      "outputs": []
    },
    {
      "cell_type": "code",
      "metadata": {
        "colab": {
          "base_uri": "https://localhost:8080/"
        },
        "id": "IFg-Cm3TXbdE",
        "outputId": "5342243d-609a-47dd-9e6a-3c512ba36d63"
      },
      "source": [
        "if (idade2 >= 18):\n",
        "  print('pode comprar uma cerveja, ou mais kkk')\n",
        "else:\n",
        "  print('não pode comprar cerveja, tem que virar adulto primeiro')"
      ],
      "execution_count": 94,
      "outputs": [
        {
          "output_type": "stream",
          "text": [
            "não pode comprar cerveja, tem que virar adulto primeiro\n"
          ],
          "name": "stdout"
        }
      ]
    },
    {
      "cell_type": "code",
      "metadata": {
        "colab": {
          "base_uri": "https://localhost:8080/"
        },
        "id": "F8BEhnUBZv-Y",
        "outputId": "f7387472-bc84-4557-ca95-936ae6a2d22c"
      },
      "source": [
        "if (idade >= 18):\n",
        "  print('pode comprar uma cerveja, ou mais kkk')\n",
        "else:\n",
        "  print('não pode comprar cerveja, tem que virar adulto primeiro')"
      ],
      "execution_count": 95,
      "outputs": [
        {
          "output_type": "stream",
          "text": [
            "pode comprar uma cerveja, ou mais kkk\n"
          ],
          "name": "stdout"
        }
      ]
    },
    {
      "cell_type": "code",
      "metadata": {
        "id": "QufDTlEVbqCY"
      },
      "source": [
        "carteira = 20"
      ],
      "execution_count": 120,
      "outputs": []
    },
    {
      "cell_type": "code",
      "metadata": {
        "colab": {
          "base_uri": "https://localhost:8080/"
        },
        "id": "qUy-K9xEaMRa",
        "outputId": "a622fcd3-2c9c-47f5-9e40-ef3f85002998"
      },
      "source": [
        "preços"
      ],
      "execution_count": 96,
      "outputs": [
        {
          "output_type": "execute_result",
          "data": {
            "text/plain": [
              "{'biscoito': 2.99, 'café': 4.69, 'cerveja': 2.66}"
            ]
          },
          "metadata": {
            "tags": []
          },
          "execution_count": 96
        }
      ]
    },
    {
      "cell_type": "code",
      "metadata": {
        "colab": {
          "base_uri": "https://localhost:8080/"
        },
        "id": "xBPhUsHLaKJ7",
        "outputId": "e7d241bc-9a80-4d0b-ddde-6946f0aac3e2"
      },
      "source": [
        "if (idade >= 18 and carteira >= preços['cerveja']):\n",
        "  print('pode comprar uma cerveja, ou mais kkk')\n",
        "  carteira = carteira - preços['cerveja']\n",
        "else:\n",
        "  print('não pode comprar cerveja')\n",
        "\n",
        "print('saldo atual:' , carteira)"
      ],
      "execution_count": 128,
      "outputs": [
        {
          "output_type": "stream",
          "text": [
            "não pode comprar cerveja\n",
            "saldo atual: 1.379999999999999\n"
          ],
          "name": "stdout"
        }
      ]
    },
    {
      "cell_type": "markdown",
      "metadata": {
        "id": "M_eRmxFXddmI"
      },
      "source": [
        "##Elif"
      ]
    },
    {
      "cell_type": "code",
      "metadata": {
        "colab": {
          "base_uri": "https://localhost:8080/"
        },
        "id": "uWfjl_OVdgxL",
        "outputId": "75c6c1bd-3386-4050-a359-6e1f224d7874"
      },
      "source": [
        "preços"
      ],
      "execution_count": 129,
      "outputs": [
        {
          "output_type": "execute_result",
          "data": {
            "text/plain": [
              "{'biscoito': 2.99, 'café': 4.69, 'cerveja': 2.66}"
            ]
          },
          "metadata": {
            "tags": []
          },
          "execution_count": 129
        }
      ]
    },
    {
      "cell_type": "code",
      "metadata": {
        "id": "hX2h3UbTdnAM"
      },
      "source": [
        "carteira = 10"
      ],
      "execution_count": 137,
      "outputs": []
    },
    {
      "cell_type": "code",
      "metadata": {
        "colab": {
          "base_uri": "https://localhost:8080/"
        },
        "id": "v50qm56od0T2",
        "outputId": "6bf5e4d3-4f60-454a-f086-c7d3c9011a2b"
      },
      "source": [
        "if (preços['biscoito']+preços['café'] < preços['biscoito'] + preços['cerveja']):\n",
        "  carteira = carteira - (preços['biscoito']+preços['café'])\n",
        "  print('Comprei um biscoito e um café')\n",
        "elif (preços['biscoito']*2 < preços['biscoito'] + preços['cerveja']):\n",
        "  carteira = carteira - (preços['biscoito']*2)\n",
        "  print('Comprei 2 biscoitos')\n",
        "elif (preços['biscoito'] < preços['biscoito'] + preços['cerveja']):\n",
        "  carteira = carteira - (preços['biscoito']*2+preços['café'])\n",
        "  print ('Comprei 1 biscoitos')\n",
        "else:\n",
        "  carteira - (preços['biscoito']+preços['cerveja'])\n",
        "  print('Comprei um biscoito e uma cerveja')\n",
        "print('Fim de compra')\n"
      ],
      "execution_count": 140,
      "outputs": [
        {
          "output_type": "stream",
          "text": [
            "Comprei 1 biscoitos\n",
            "Fim de compra\n"
          ],
          "name": "stdout"
        }
      ]
    },
    {
      "cell_type": "markdown",
      "metadata": {
        "id": "yr6McF7CiJ1l"
      },
      "source": [
        "exercicios finais"
      ]
    },
    {
      "cell_type": "code",
      "metadata": {
        "colab": {
          "base_uri": "https://localhost:8080/"
        },
        "id": "5UerZXeuh7oi",
        "outputId": "a0541c25-35e5-43c1-fbcd-759041f469c9"
      },
      "source": [
        "print('olá mundo!')"
      ],
      "execution_count": 141,
      "outputs": [
        {
          "output_type": "stream",
          "text": [
            "olá mundo!\n"
          ],
          "name": "stdout"
        }
      ]
    },
    {
      "cell_type": "code",
      "metadata": {
        "id": "tyTsddThiEuO"
      },
      "source": [
        "idade = 21"
      ],
      "execution_count": 142,
      "outputs": []
    },
    {
      "cell_type": "code",
      "metadata": {
        "colab": {
          "base_uri": "https://localhost:8080/"
        },
        "id": "MgSeNr6RiB16",
        "outputId": "c92ba813-346e-4316-c7e8-cf5d6af604b1"
      },
      "source": [
        "idade = int (input())"
      ],
      "execution_count": 146,
      "outputs": [
        {
          "output_type": "stream",
          "text": [
            "37\n"
          ],
          "name": "stdout"
        }
      ]
    },
    {
      "cell_type": "code",
      "metadata": {
        "colab": {
          "base_uri": "https://localhost:8080/",
          "height": 35
        },
        "id": "uFUd0RiviXLo",
        "outputId": "a3580b77-e961-4997-fe8b-ea6774e443d7"
      },
      "source": [
        "idade"
      ],
      "execution_count": 144,
      "outputs": [
        {
          "output_type": "execute_result",
          "data": {
            "application/vnd.google.colaboratory.intrinsic+json": {
              "type": "string"
            },
            "text/plain": [
              "'37'"
            ]
          },
          "metadata": {
            "tags": []
          },
          "execution_count": 144
        }
      ]
    },
    {
      "cell_type": "code",
      "metadata": {
        "colab": {
          "base_uri": "https://localhost:8080/"
        },
        "id": "kI_5pZlEihkC",
        "outputId": "e1ca686b-740b-4baa-8f9c-2e8901017750"
      },
      "source": [
        "idade + 21"
      ],
      "execution_count": 147,
      "outputs": [
        {
          "output_type": "execute_result",
          "data": {
            "text/plain": [
              "58"
            ]
          },
          "metadata": {
            "tags": []
          },
          "execution_count": 147
        }
      ]
    },
    {
      "cell_type": "code",
      "metadata": {
        "colab": {
          "base_uri": "https://localhost:8080/"
        },
        "id": "ER-Bm7vYjDz0",
        "outputId": "d61e2baa-c3f7-4698-d8d5-55d93250d98a"
      },
      "source": [
        "int(4.56)"
      ],
      "execution_count": 148,
      "outputs": [
        {
          "output_type": "execute_result",
          "data": {
            "text/plain": [
              "4"
            ]
          },
          "metadata": {
            "tags": []
          },
          "execution_count": 148
        }
      ]
    },
    {
      "cell_type": "code",
      "metadata": {
        "id": "AqfE1ZOJjJSw"
      },
      "source": [
        "valorTexto = str(4.56)"
      ],
      "execution_count": 150,
      "outputs": []
    },
    {
      "cell_type": "code",
      "metadata": {
        "colab": {
          "base_uri": "https://localhost:8080/",
          "height": 35
        },
        "id": "bQEofZ1ajWHk",
        "outputId": "4f63df8b-0d9b-4861-8c8b-0a150719508a"
      },
      "source": [
        "valorTexto"
      ],
      "execution_count": 151,
      "outputs": [
        {
          "output_type": "execute_result",
          "data": {
            "application/vnd.google.colaboratory.intrinsic+json": {
              "type": "string"
            },
            "text/plain": [
              "'4.56'"
            ]
          },
          "metadata": {
            "tags": []
          },
          "execution_count": 151
        }
      ]
    },
    {
      "cell_type": "code",
      "metadata": {
        "id": "5xrPRDkpjYjF"
      },
      "source": [
        "nome = 'Fernanda'"
      ],
      "execution_count": 152,
      "outputs": []
    },
    {
      "cell_type": "code",
      "metadata": {
        "colab": {
          "base_uri": "https://localhost:8080/"
        },
        "id": "scWqTAgxjb6e",
        "outputId": "58c21fd5-0524-42ea-97f5-a2bdee2e1a9d"
      },
      "source": [
        "list(nome)"
      ],
      "execution_count": 153,
      "outputs": [
        {
          "output_type": "execute_result",
          "data": {
            "text/plain": [
              "['F', 'e', 'r', 'n', 'a', 'n', 'd', 'a']"
            ]
          },
          "metadata": {
            "tags": []
          },
          "execution_count": 153
        }
      ]
    },
    {
      "cell_type": "code",
      "metadata": {
        "id": "LWPe9eXmjh18"
      },
      "source": [
        "numeroTexto = '300'"
      ],
      "execution_count": 154,
      "outputs": []
    },
    {
      "cell_type": "code",
      "metadata": {
        "colab": {
          "base_uri": "https://localhost:8080/"
        },
        "id": "Ijn_6qM9jlxq",
        "outputId": "9aa1e9cc-3b66-4120-9e41-8bc144ed8ead"
      },
      "source": [
        "int(numeroTexto)"
      ],
      "execution_count": 155,
      "outputs": [
        {
          "output_type": "execute_result",
          "data": {
            "text/plain": [
              "300"
            ]
          },
          "metadata": {
            "tags": []
          },
          "execution_count": 155
        }
      ]
    }
  ]
}